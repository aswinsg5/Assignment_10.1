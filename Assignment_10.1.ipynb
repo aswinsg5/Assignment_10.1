{
 "cells": [
  {
   "cell_type": "markdown",
   "metadata": {},
   "source": [
    "# Task 1:\n",
    "### 1. Blood glucose levels for obese patients have a mean of 100 with a standard deviation of 15. A researcher thinks that a diet high in raw cornstarch will have a positive effect on blood glucoselevels. A sample of 36 patients who have tried the raw cornstarch diet have a mean glucoselevel of 108. Test the hypothesis that the raw cornstarch had an effect or not."
   ]
  },
  {
   "cell_type": "code",
   "execution_count": 5,
   "metadata": {},
   "outputs": [
    {
     "name": "stdout",
     "output_type": "stream",
     "text": [
      "Z value as per the calculation is 3.20 i.e. Probability associated with 3.2 is 0.99931\n",
      "since 0.00070 is less than 0.05, we will reject the Null hypothesis !!\n"
     ]
    }
   ],
   "source": [
    "# Hypothesis testing\n",
    "# here we define our null hypothesis H0 :      mean=100\n",
    "#                    alternate hypothesis H1:  mean !=100\n",
    "#significance level(alpha)= 0.05\n",
    "#Since null hypothesis has equal to sign which leads to two tail test.if mean is less than 100 then it will be rejected and if it is greater than \n",
    "# 100 then also it will be rejected.\n",
    "\n",
    "mu=100 # population mean\n",
    "sd= 15\n",
    "x= 108 # sample mean\n",
    "N=36\n",
    "\n",
    "# claculation Z score of the sample:\n",
    "import numpy as np\n",
    "from scipy import stats\n",
    "z= (x-mu)/(sd/np.sqrt(N))\n",
    "\n",
    "print(\"Z value as per the calculation is {:.2f} i.e. Probability associated with {} is {:.5f}\".format(z,z,stats.norm.cdf(z)))\n",
    "\n",
    "#Probability by looking at z- table the value associated with 3.20 is 0.9993 \n",
    "\n",
    "#i.e. probability of having value less than 108 is 0.9993 and more than or equals to 108 is (1-0.9993)=0.0007.\n",
    "\n",
    "#Conclusion: It is less than 0.05 so we will reject the Null hypothesis i.e. there is raw cornstarch effect.\n",
    "print(\"since {:.5f} is less than 0.05, we will reject the Null hypothesis !!\".format(1-0.9993))"
   ]
  },
  {
   "cell_type": "markdown",
   "metadata": {},
   "source": [
    "### 2: In one state, 52% of the voters are Republicans, and 48% are Democrats. In a second state, 47% of the voters are Republicans, and 53% are Democrats. Suppose a simple random sample of 100 voters are surveyed from each state. What is the probability that the survey will show a greater percentage of Republican voters inthe second state than in the first state?"
   ]
  },
  {
   "cell_type": "code",
   "execution_count": 3,
   "metadata": {},
   "outputs": [
    {
     "name": "stdout",
     "output_type": "stream",
     "text": [
      "Probability that survey shows greater % of Rep voters in second state is 0.24\n"
     ]
    }
   ],
   "source": [
    "import math\n",
    "from scipy import stats as st\n",
    "import numpy as np\n",
    "\n",
    "#P1 = In state one 52% of the voters are republicans\n",
    "P1 = 0.52\n",
    "#P2 =In state two 47% of the voters are republicans\n",
    "P2 = 0.47\n",
    "#The number of voters sampled from the first state (n1) = 100\n",
    "n1 = 100\n",
    "\n",
    "#the number of voters sampled from the second state (n2) = 100.\n",
    "n2 = 100\n",
    "\n",
    "mu1_mu2 = P1-P2\n",
    "std_dev_of_mu1_mu2 = math.sqrt((P1*(1-P1)/n1) + (P2*(1-P2)/n2))\n",
    "#std_dev_of_diff = np.std((P1*(1-P1)/n1) + (P2*(1-P2)/n2))\n",
    "\n",
    "#Here we need to find if (p1 < p2) i.e. (p1 - p2) >0\n",
    "#So here the sample var should be zero\n",
    "\n",
    "X = 0\n",
    "Z_diff = (X - mu1_mu2) / std_dev_of_mu1_mu2\n",
    "\n",
    "print(\"Probability that survey shows greater % of Rep voters in second state is {:.2f}\".format(st.norm.cdf(Z_diff)))"
   ]
  },
  {
   "cell_type": "markdown",
   "metadata": {},
   "source": [
    "### Q3:You take the SAT and score 1100. The mean score  for the SAT is 1026 and the standard deviation is 209. How well did you score on the test compared to the average test taker?"
   ]
  },
  {
   "cell_type": "code",
   "execution_count": 9,
   "metadata": {},
   "outputs": [
    {
     "name": "stdout",
     "output_type": "stream",
     "text": [
      "I scored 63.84%, which is 13.84% above the avarage.\n"
     ]
    }
   ],
   "source": [
    "mean = 1026\n",
    "std_dev = 209\n",
    "my_score = 1100\n",
    "\n",
    "z = (my_score - mean) / std_dev\n",
    "percent = stats.norm.cdf(z) * 100\n",
    "\n",
    "print(\"I scored {:.2f}%, which is {:.2f}% above the avarage.\".format(percent,percent-50))"
   ]
  },
  {
   "cell_type": "markdown",
   "metadata": {},
   "source": [
    "# Task 2:\n",
    "### 1. Is gender independent of education level? A random sample of 395 people were surveyedand each person was asked to report the highest education level they obtained. The data thatresulted from the survey is summarized in the following table:\n",
    "\n",
    "High School Bachelors Masters Ph.d. Total\n",
    "Female 60 54 46 41 201\n",
    "Male 40 44 53 57 194\n",
    "Total 100 98 99 98 395\n",
    "### Question: Are gender and education level dependent at 5% level of significance? In otherwords, given the data collected above, is there a relationship between the gender of a individual and the level of education that they have obtained?"
   ]
  },
  {
   "cell_type": "code",
   "execution_count": 10,
   "metadata": {},
   "outputs": [
    {
     "name": "stdout",
     "output_type": "stream",
     "text": [
      "        Bachelors  High School  Masters  Ph.d.\n",
      "Gender                                        \n",
      "Male           54           60       46     41\n",
      "Female         44           40       53     57\n",
      "sum            98          100       99     98\n"
     ]
    }
   ],
   "source": [
    "import pandas as pd\n",
    "import numpy as np\n",
    "# This problem is example of chi- square test of independence\n",
    "#level of significance is 5%\n",
    "alpha=0.05\n",
    "\n",
    "#lets first make a dataframe of given data  using pandas \n",
    "\n",
    "data = {'Gender'          : ['Male', 'Female'],\n",
    "        'Bachelors'     : [54, 44],\n",
    "        'High School'   : [60, 40],\n",
    "        'Masters'     : [46, 53],\n",
    "        'Ph.d.'     : [41, 57],\n",
    "        }\n",
    "#Convert to data frame\n",
    "df = pd.DataFrame(data)\n",
    "df.set_index('Gender' , inplace=True) # gender columnsis set as index\n",
    "df.loc['sum'] = df.sum() # \n",
    "print(df) "
   ]
  },
  {
   "cell_type": "code",
   "execution_count": 15,
   "metadata": {},
   "outputs": [
    {
     "name": "stdout",
     "output_type": "stream",
     "text": [
      "The Chi-Sq value is 8.006 and the P-Value is 0.046 for this dataset.\n",
      "As per the question, level of significance is 5% i.e. 0.050.\n",
      "Since the P-Value is Less than Level of Significance, we can not aceppet the Null Hypothesis\n"
     ]
    }
   ],
   "source": [
    "# null hypothesis\n",
    "#H0= education and gender are independent\n",
    "#H1= education and gender are related to each other\n",
    "\n",
    "#degree of freedom= (nrow-1)*(ncol-1)\n",
    "#ncol= df.num_columns\n",
    "#nrow= df.shape[0]\n",
    "#degree_freedom= (nrow-1)*(ncol-1)\n",
    "\n",
    "lst_male = np.asarray(df[:'Male'])[0]\n",
    "lst_female = np.asarray(df[:'Female'])[1]\n",
    "men_women = np.array([lst_male,lst_female])\n",
    "out = st.chi2_contingency(men_women)\n",
    "\n",
    "print(\"The Chi-Sq value is {:.3f} and the P-Value is {:.3f} for this dataset.\".format(out[0], out[1]))\n",
    "print(\"As per the question, level of significance is 5% i.e. {:.3f}.\".format(alpha))\n",
    "\n",
    "if out[1] < alpha :\n",
    "    print(\"Since the P-Value is Less than Level of Significance, we can not aceppet the Null Hypothesis\")\n",
    "else:\n",
    "    print(\"Since the P-Value is Greater than level of Significance, Null hypothesis is rejected\")"
   ]
  },
  {
   "cell_type": "code",
   "execution_count": 28,
   "metadata": {},
   "outputs": [
    {
     "name": "stdout",
     "output_type": "stream",
     "text": [
      "The Chi-Sq value is 3.600 and the P-Value is 0.094 for this dataset.\n"
     ]
    }
   ],
   "source": [
    "print(\"The Chi-Sq value is {:.3f} and the P-Value is {:.3f} for this dataset.\".format(out[0], out[1]))\n"
   ]
  },
  {
   "cell_type": "markdown",
   "metadata": {},
   "source": [
    "### Q2: Using the following data, perform a oneway analysis of variance using α=.05. Write up the results in APA format.\n",
    "\n",
    "[Group1: 51, 45, 33, 45, 67] [Group2: 23, 43, 23, 43, 45] [Group3: 56, 76, 74, 87, 56]"
   ]
  },
  {
   "cell_type": "code",
   "execution_count": 16,
   "metadata": {},
   "outputs": [],
   "source": [
    "import numpy as np\n",
    "import pandas as pd\n",
    "import scipy.stats as st\n",
    "from scipy.stats import f"
   ]
  },
  {
   "cell_type": "code",
   "execution_count": 17,
   "metadata": {},
   "outputs": [
    {
     "name": "stdout",
     "output_type": "stream",
     "text": [
      "   Group1  Group2  Group3\n",
      "0      51      23      56\n",
      "1      45      43      76\n",
      "2      33      23      74\n",
      "3      45      43      87\n",
      "4      67      45      56\n"
     ]
    }
   ],
   "source": [
    "data = {\"Group1\": [51, 45, 33, 45, 67],\n",
    "        \"Group2\": [23, 43, 23, 43, 45],\n",
    "        \"Group3\": [56, 76, 74, 87, 56]}\n",
    "df = pd.DataFrame(data)\n",
    "\n",
    "print(df)"
   ]
  },
  {
   "cell_type": "code",
   "execution_count": 18,
   "metadata": {},
   "outputs": [
    {
     "name": "stdout",
     "output_type": "stream",
     "text": [
      "-------------------------------------------------------\n",
      "H0 = (mean_for_Gr1 == mean_for_Gr2 == mean_for_Gr3)\n",
      "H0 = Means have some differance\n",
      "-------------------------------------------------------\n",
      "DOF_within = 12 , DOF_between = 2 and DOF_total = 14\n",
      "-------------------------------------------------------\n",
      "F_critical value here is 3.8852938346523933\n",
      "-------------------------------------------------------\n"
     ]
    }
   ],
   "source": [
    "Alpha_Val = 0.05\n",
    "\n",
    "print('-------------------------------------------------------')\n",
    "print(\"H0 = (mean_for_Gr1 == mean_for_Gr2 == mean_for_Gr3)\")\n",
    "print(\"H0 = Means have some differance\")\n",
    "print('-------------------------------------------------------')\n",
    "\n",
    "df_rows = df.shape[0]\n",
    "df_col = df.shape[1]\n",
    "\n",
    "DOF_between = df.shape[1] - 1\n",
    "DOF_within = (df.shape[0] * df.shape[1]) - df.shape[1]\n",
    "DOF_total = DOF_between + DOF_within\n",
    "\n",
    "print('DOF_within = {} , DOF_between = {} and DOF_total = {}'.format(DOF_within,DOF_between,DOF_total))\n",
    "print('-------------------------------------------------------')\n",
    "\n",
    "F_critical = st.f.ppf(q=1-Alpha_Val, dfn=DOF_between, dfd=DOF_within)\n",
    "\n",
    "print('F_critical value here is {}'.format(F_critical))\n",
    "print('-------------------------------------------------------')"
   ]
  },
  {
   "cell_type": "code",
   "execution_count": 19,
   "metadata": {},
   "outputs": [
    {
     "name": "stdout",
     "output_type": "stream",
     "text": [
      "sum_sq_total is 4883.733333333334\n"
     ]
    }
   ],
   "source": [
    "#Calculating square of dev using mean and Dev for each group\n",
    "\n",
    "new_col = (df.Group1 - df.Group1.mean())**2\n",
    "df.insert(loc=1, column='sq_of_dev_Gr1', value=new_col)\n",
    "\n",
    "new_col = (df.Group2 - df.Group2.mean())**2\n",
    "df.insert(loc=3, column='sq_of_dev_Gr2', value=new_col)\n",
    "\n",
    "new_col = (df.Group3 - df.Group3.mean())**2\n",
    "df.insert(loc=5, column='sq_of_dev_Gr3', value=new_col)\n",
    "\n",
    "Grand_mean = (df.Group1.sum()+df.Group2.sum()+df.Group3.sum())/(df_rows*df_col)\n",
    "\n",
    "\n",
    "sum_sq_total = ((df.Group1-Grand_mean)**2).sum() \\\n",
    "                +((df.Group2-Grand_mean)**2).sum() \\\n",
    "                +((df.Group3-Grand_mean)**2).sum()\n",
    "   \n",
    "print(\"sum_sq_total is {}\".format(sum_sq_total))"
   ]
  },
  {
   "cell_type": "code",
   "execution_count": 20,
   "metadata": {},
   "outputs": [
    {
     "name": "stdout",
     "output_type": "stream",
     "text": [
      "sum_sq_within is 1860.8\n",
      "sum_sq_between is 3022.9333333333334\n",
      "-------------------------------------------------------\n",
      "Var_between is 1511.4666666666667\n",
      "Var_within is 155.06666666666666\n",
      "F_value is 9.747205503009459\n",
      "-------------------------------------------------------\n",
      "since F_value is Greater than F_critical, Reject the null Hypothysis !!\n"
     ]
    }
   ],
   "source": [
    "sum_sq_within = df.sq_of_dev_Gr1.sum()+df.sq_of_dev_Gr2.sum()+df.sq_of_dev_Gr3.sum()\n",
    "\n",
    "print(\"sum_sq_within is {}\".format(sum_sq_within))\n",
    "\n",
    "sum_sq_between = sum_sq_total - sum_sq_within\n",
    "print(\"sum_sq_between is {}\".format(sum_sq_between))\n",
    "print('-------------------------------------------------------')\n",
    "\n",
    "Var_between = sum_sq_between / DOF_between\n",
    "print(\"Var_between is {}\".format(Var_between))\n",
    "\n",
    "Var_within = sum_sq_within / DOF_within\n",
    "print(\"Var_within is {}\".format(Var_within))\n",
    "\n",
    "F_value = Var_between/Var_within\n",
    "\n",
    "print(\"F_value is {}\".format(F_value))\n",
    "print('-------------------------------------------------------')\n",
    "\n",
    "if F_value > F_critical:\n",
    "    print(\"since F_value is Greater than F_critical, Reject the null Hypothysis !!\")\n",
    "else:\n",
    "    print(\"since F_critical is Greater than F_value, We can't reject the null Hypothysis !!\")"
   ]
  },
  {
   "cell_type": "markdown",
   "metadata": {},
   "source": [
    "### Q3:Calculate F Test for given 10, 20, 30, 40, 50 and 5,10,15, 20, 25.\n",
    "\n",
    "For 10, 20, 30, 40, 50:"
   ]
  },
  {
   "cell_type": "code",
   "execution_count": 22,
   "metadata": {},
   "outputs": [
    {
     "name": "stdout",
     "output_type": "stream",
     "text": [
      "DOF_within = 8 , DOF_between = 1\n",
      "F_critical value here is 5.317655071578714\n",
      "F_value = 3.6, P_value = 0.0943497728424377\n"
     ]
    }
   ],
   "source": [
    "import scipy.stats as stats\n",
    "\n",
    "#Considering Alpha_Val as 0.05\n",
    "\n",
    "Alpha_Val = 0.05\n",
    "\n",
    "A = [10, 20, 30, 40, 50]\n",
    "B = [5, 10, 15, 20, 25]\n",
    "\n",
    "DOF_between = 1\n",
    "DOF_within = len(A) + len(B) - 2\n",
    "\n",
    "print('DOF_within = {} , DOF_between = {}'.format(DOF_within,DOF_between))\n",
    "\n",
    "F_critical = st.f.ppf(q=1-Alpha_Val, dfn=DOF_between, dfd=DOF_within)\n",
    "print('F_critical value here is {}'.format(F_critical))\n",
    "\n",
    "out = stats.f_oneway(A,B)\n",
    "\n",
    "print(\"F_value = {}, P_value = {}\".format(out[0],out[1]))\n",
    "F_critical = st.f.ppf(q=1-Alpha_Val, dfn=DOF_between, dfd=DOF_total)"
   ]
  },
  {
   "cell_type": "code",
   "execution_count": null,
   "metadata": {},
   "outputs": [],
   "source": []
  }
 ],
 "metadata": {
  "kernelspec": {
   "display_name": "Python 3",
   "language": "python",
   "name": "python3"
  },
  "language_info": {
   "codemirror_mode": {
    "name": "ipython",
    "version": 3
   },
   "file_extension": ".py",
   "mimetype": "text/x-python",
   "name": "python",
   "nbconvert_exporter": "python",
   "pygments_lexer": "ipython3",
   "version": "3.6.4"
  }
 },
 "nbformat": 4,
 "nbformat_minor": 2
}
